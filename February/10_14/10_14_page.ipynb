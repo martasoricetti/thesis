{
 "cells": [
  {
   "cell_type": "markdown",
   "id": "35a8a8dd-1cc4-475a-8699-80c22dc94386",
   "metadata": {},
   "source": [
    "<h2>Settimana 10-14/02/23</h2>"
   ]
  },
  {
   "cell_type": "markdown",
   "id": "cac8e187-a03b-464c-bd03-319dbe550f3a",
   "metadata": {},
   "source": [
    "<p>In questi giorni mi sono essenzialmente dedicata alle letture assegnatemi, in particolare <em>\"OpenCitations, an infrastructure organization for open scholarship\"</em>, <em>\"Software review: COCI, the OpenCitations Index of Crossref open DOI‑to‑DOI citations\"</em> e la tesi di Arianna Moretti (<em>\"Extending The OpenCitations Codebase For Creating Non-DOI Citation Indexes: The Ingestion Of The NIH Open Citation Collection\"</em>) che si è occupata della creazione di un nuovo indice di OC (lei si riferisce a 'NOCI', ma credo che attualmente sia pubblicato in OpenCitations con il nome di 'POCI').</p>"
   ]
  },
  {
   "cell_type": "markdown",
   "id": "9bfc3fa4-7956-4b95-80bd-fb9cc00ec768",
   "metadata": {},
   "source": [
    "<p>Sapendo che la seconda parte della mia tesi riguarderà lo sviluppo di una REST API per permettere di accedere ai dati citazionali contenuti nel nuovo indice, ho visto nella repository di Github di OpenCitations l'applicazione RAMOSE (Restful API Manager Over SPARQL Endpoints). Ho anche provato ad utilizzare la REST API messa a disposizione per accedere ai dati disponisibili in COCI, facendo qualche prova per capire meglio il funzionamento delle diverse operazioni disponibili. Ad esempio:</p>"
   ]
  },
  {
   "cell_type": "code",
   "execution_count": 1,
   "id": "6f4b4f57-3222-4d18-96e9-ac5f5568d660",
   "metadata": {},
   "outputs": [
    {
     "data": {
      "text/plain": [
       "<Response [200]>"
      ]
     },
     "execution_count": 1,
     "metadata": {},
     "output_type": "execute_result"
    }
   ],
   "source": [
    "from requests import get\n",
    "\n",
    "API_CALL = \"https://opencitations.net/index/coci/api/v1/references/10.1016/s0006-2952(98)00122-1\"\n",
    "HTTP_HEADERS = {\"authorization\": \"fa4e41d3-7421-41c0-9056-6def4506a001\"}\n",
    "\n",
    "get(API_CALL, headers=HTTP_HEADERS)"
   ]
  },
  {
   "cell_type": "markdown",
   "id": "68f99adb-5a61-4158-8527-e7665e0854c5",
   "metadata": {},
   "source": [
    "<p>Dalla lettura dell'articolo su COCI e della tesi di Arianna mi sono fatta un'idea generale e approssimativa degli step che dovrò compiere nel mio lavoro:\n",
    "<ul>\n",
    "    <li>Data acquisition: acquisizione dei dati citazionali dalla data source;</li>\n",
    "    <li>Data preprocessing: creare file da utilizzare più avanti nel workflow contenenti informazioni (id dell'entità citante e dell'entità citata, data della citazione, timespan della citazione, autori e luogo di pubblicazione delle due entità) riguardo le entità citanti e citate;</li>\n",
    "    <li>Data processing;</li>\n",
    "    <li>Processed Data Upload.</li>\n",
    "</ul></p>"
   ]
  },
  {
   "cell_type": "markdown",
   "id": "ca2934bf-3e6a-42e6-8f23-0d22e8b3c57a",
   "metadata": {},
   "source": [
    "<p>Primo passo da compiere: analisi della mia data source(?). Che dati contiene? Le pubblicazioni sono identificate da DOI? </p>"
   ]
  }
 ],
 "metadata": {
  "kernelspec": {
   "display_name": "Python 3 (ipykernel)",
   "language": "python",
   "name": "python3"
  },
  "language_info": {
   "codemirror_mode": {
    "name": "ipython",
    "version": 3
   },
   "file_extension": ".py",
   "mimetype": "text/x-python",
   "name": "python",
   "nbconvert_exporter": "python",
   "pygments_lexer": "ipython3",
   "version": "3.9.1"
  }
 },
 "nbformat": 4,
 "nbformat_minor": 5
}
